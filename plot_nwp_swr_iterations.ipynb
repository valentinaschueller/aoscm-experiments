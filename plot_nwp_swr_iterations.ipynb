{
 "cells": [
  {
   "cell_type": "code",
   "execution_count": null,
   "metadata": {},
   "outputs": [],
   "source": [
    "import proplot as pplt\n",
    "import numpy as np\n",
    "from ruamel.yaml import YAML\n",
    "import xarray as xr\n",
    "\n",
    "from pathlib import Path"
   ]
  },
  {
   "cell_type": "code",
   "execution_count": null,
   "metadata": {},
   "outputs": [],
   "source": [
    "plotting_dir = Path(\"plots/ensemble/ec-earth-3\")\n",
    "plotting_dir.mkdir(exist_ok=True, parents=True)\n",
    "ensemble_directory = Path(\"PAPA/ensemble_output\")"
   ]
  },
  {
   "cell_type": "code",
   "execution_count": null,
   "metadata": {},
   "outputs": [],
   "source": [
    "schwarz_directories = []\n",
    "yaml = YAML(typ=\"unsafe\", pure=True)\n",
    "for date_dir in ensemble_directory.glob(\"*\"):\n",
    "    if date_dir.is_dir():\n",
    "        schwarz_directories.append(date_dir / \"schwarz\")\n",
    "experiments = []\n",
    "non_converged_counter = 0\n",
    "for schwarz_dir in schwarz_directories:\n",
    "    with open(schwarz_dir / \"setup_dict.yaml\") as yaml_file:\n",
    "        experiment = yaml.load(yaml_file)\n",
    "        converged = experiment.iterate_converged[\"inf-norm\"]\n",
    "        if converged:\n",
    "            experiments.append(experiment)\n",
    "        else:\n",
    "            non_converged_counter += 1\n",
    "\n",
    "iterations = np.array([experiment.iteration for experiment in experiments])\n",
    "# start_dates = np.array([schwarz_dict[\"run_start_date\"] for schwarz_dict in schwarz_dicts])\n",
    "iterations = xr.DataArray(iterations, name=\"iterations\")"
   ]
  },
  {
   "cell_type": "code",
   "execution_count": null,
   "metadata": {},
   "outputs": [],
   "source": [
    "print(f\"Not converged: {non_converged_counter}\")"
   ]
  },
  {
   "cell_type": "code",
   "execution_count": null,
   "metadata": {},
   "outputs": [],
   "source": [
    "iteration_count = iterations.groupby(iterations).count()\n",
    "iteration_count.name = \"Iteration Count\""
   ]
  },
  {
   "cell_type": "code",
   "execution_count": null,
   "metadata": {},
   "outputs": [],
   "source": [
    "fig, ax = pplt.subplots(width=\"40em\", height=\"20em\")\n",
    "ax.bar(iteration_count, absolute_width=True, color=\"k\")\n",
    "ax.format(\n",
    "    xlabel=\"Number of Iterations until Termination Criterion Satisfied\",\n",
    "    ylabel=\"Number of Experiments\",\n",
    "    xlim=[0, 31],\n",
    "    xticks=np.arange(2, 31, 2),\n",
    "    xtickminor=True,\n",
    "    xminorticks=np.arange(0, 31),\n",
    ")\n",
    "fig.savefig(plotting_dir / \"swr_iteration_count.pdf\")"
   ]
  },
  {
   "cell_type": "code",
   "execution_count": null,
   "metadata": {},
   "outputs": [],
   "source": [
    "iterations.mean()"
   ]
  },
  {
   "cell_type": "code",
   "execution_count": null,
   "metadata": {},
   "outputs": [],
   "source": [
    "iterations.median()"
   ]
  }
 ],
 "metadata": {
  "kernelspec": {
   "display_name": "aoscm",
   "language": "python",
   "name": "python3"
  },
  "language_info": {
   "codemirror_mode": {
    "name": "ipython",
    "version": 3
   },
   "file_extension": ".py",
   "mimetype": "text/x-python",
   "name": "python",
   "nbconvert_exporter": "python",
   "pygments_lexer": "ipython3",
   "version": "3.10.15"
  }
 },
 "nbformat": 4,
 "nbformat_minor": 2
}
