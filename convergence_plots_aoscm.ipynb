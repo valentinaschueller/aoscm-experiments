{
 "cells": [
  {
   "cell_type": "code",
   "execution_count": 94,
   "metadata": {},
   "outputs": [],
   "source": [
    "import xarray as xr\n",
    "import pandas as pd\n",
    "import numpy as np\n",
    "import matplotlib.pyplot as plt\n",
    "from matplotlib import font_manager\n",
    "from pathlib import Path\n",
    "import warnings\n",
    "\n",
    "from AOSCMcoupling.convergence_checker import vector_norm, relative_error, relative_criterion"
   ]
  },
  {
   "cell_type": "code",
   "execution_count": 95,
   "metadata": {},
   "outputs": [],
   "source": [
    "class OASISPreprocessor:\n",
    "    \"\"\"Preprocessor for OASIS Output Files from EC-Earth SCM runs.\n",
    "\n",
    "    Drops the horizontal dimension which is added for NEMO but meaningless.\n",
    "    If `origin` is provided: converts `time` coordinate to valid datetime objects,\n",
    "    computed relative to the simulation start date, with optional time shift\n",
    "    \"\"\"\n",
    "\n",
    "    def __init__(\n",
    "        self, origin: pd.Timestamp = None, time_shift: pd.Timedelta = pd.Timedelta(0)\n",
    "    ):\n",
    "        \"\"\"Constructor.\n",
    "\n",
    "        :param origin: start date (+ time) of the simulation\n",
    "        :type origin: pd.Timestamp\n",
    "        :param time_shift: time shift to apply for local time, default: 0\n",
    "        :type time_shift: pd.Timedelta, optional\n",
    "        \"\"\"\n",
    "        self.origin = origin\n",
    "        self.time_shift = time_shift\n",
    "\n",
    "    def preprocess(self, ds: xr.Dataset) -> xr.DataArray:\n",
    "        \"\"\"Preprocess function for use with `xr.open_mfdataset()`.\n",
    "\n",
    "        :param ds: dataset as loaded from disk\n",
    "        :type ds: xr.Dataset\n",
    "        :return: preprocessed DataArray (only one variable!)\n",
    "        :rtype: xr.DataArray\n",
    "        \"\"\"\n",
    "        ds = ds.isel(ny=0, nx=0)\n",
    "\n",
    "        source_file = Path(ds.encoding[\"source\"])\n",
    "        iteration = int(source_file.parent.name.split(\"_\")[-1])\n",
    "        ds = ds.expand_dims(\n",
    "            iteration=[iteration],\n",
    "        )\n",
    "\n",
    "        if self.origin is not None:\n",
    "            time_data = np.array(ds.time.data, dtype=\"timedelta64[s]\")\n",
    "            ds = ds.assign_coords(time=self.origin + time_data + self.time_shift)\n",
    "        return ds\n"
   ]
  },
  {
   "cell_type": "code",
   "execution_count": 96,
   "metadata": {},
   "outputs": [],
   "source": [
    "def set_style():\n",
    "    font_dir = Path(\"/Users/valentina/dev/aoscm/tex-gyre-heros\")\n",
    "    for path in font_dir.glob(\"*.otf\"):\n",
    "        font_manager.fontManager.addfont(path)\n",
    "    plt.style.use(\"aoscm-experiments/stylesheet.mpl\")\n",
    "set_style()"
   ]
  },
  {
   "cell_type": "code",
   "execution_count": 97,
   "metadata": {},
   "outputs": [],
   "source": [
    "preprocessor = OASISPreprocessor(pd.Timestamp(\"2014-07-01\"), pd.Timedelta(-7, \"h\"))"
   ]
  },
  {
   "cell_type": "code",
   "execution_count": 98,
   "metadata": {},
   "outputs": [],
   "source": [
    "coupling_vars = [\n",
    "    \"A_TauX_oce\",\n",
    "    \"A_TauY_oce\",\n",
    "    \"A_TauX_ice\",\n",
    "    \"A_TauY_ice\",\n",
    "    \"A_Qs_mix\",\n",
    "    \"A_Qns_mix\",\n",
    "    \"A_Qs_ice\",\n",
    "    \"A_Qns_ice\",\n",
    "    \"A_Precip_liquid\",\n",
    "    \"A_Precip_solid\",\n",
    "    \"A_Evap_total\",\n",
    "    \"A_Evap_ice\",\n",
    "    \"A_dQns_dT\",\n",
    "    \"O_SSTSST\",\n",
    "    \"O_TepIce\",\n",
    "    \"O_AlbIce\",\n",
    "    \"OIceFrc\",\n",
    "    \"OIceTck\",\n",
    "    \"OSnwTck\",\n",
    "]"
   ]
  },
  {
   "cell_type": "code",
   "execution_count": 99,
   "metadata": {},
   "outputs": [],
   "source": [
    "def check_null(da: xr.DataArray) -> bool:\n",
    "    if da.isnull().all():\n",
    "        return True\n",
    "    if not da.any():\n",
    "        return True\n",
    "    return False"
   ]
  },
  {
   "cell_type": "code",
   "execution_count": 101,
   "metadata": {},
   "outputs": [
    {
     "name": "stdout",
     "output_type": "stream",
     "text": [
      "A_Precip_liquid: All values NaN or 0, no plot created!\n"
     ]
    }
   ],
   "source": [
    "output_dir = Path(\"output_cosmos\")\n",
    "exp_id = \"TOPS\"\n",
    "netcdf_files = [file for file in output_dir.glob(f\"{exp_id}_*/*.nc\")]\n",
    "oasis_files = [file for file in netcdf_files if any(cv in file.name for cv in coupling_vars)]\n",
    "\n",
    "ds = xr.open_mfdataset(oasis_files, preprocess=preprocessor.preprocess)\n",
    "\n",
    "relative_errors_2 = relative_error(ds, ds.isel(iteration=-1), ds.isel(iteration=-1), ord=2)\n",
    "relative_errors_inf = relative_error(ds, ds.isel(iteration=-1), ds.isel(iteration=-1), ord=np.inf)\n",
    "\n",
    "for var_name, v_relative_error_2 in relative_errors_2.items():\n",
    "    v_relative_error_inf = relative_errors_inf[var_name]\n",
    "    if check_null(v_relative_error_2) or check_null(v_relative_error_inf):\n",
    "        print(f\"{var_name}: All values NaN or 0, no plot created!\")\n",
    "        continue\n",
    "    fig, ax = plt.subplots()\n",
    "    v_relative_error_2.plot(ax=ax, ls=\"none\", marker=\".\", label=\"2-norm\")\n",
    "    v_relative_error_inf.plot(ax=ax, ls=\"none\", marker=\".\", label=\"max-norm\")\n",
    "    ax.set(\n",
    "        yscale=\"log\",\n",
    "        ylabel=\"Relative Error\",\n",
    "        title=f\"{exp_id}: SWR Convergence for {var_name}\",\n",
    "        xlabel=\"Iteration\",\n",
    "    )\n",
    "    ax.legend()\n",
    "    fig.savefig(f\"plots/{exp_id}_{var_name}_convergence.png\", dpi=250)\n",
    "    plt.close()"
   ]
  },
  {
   "cell_type": "code",
   "execution_count": null,
   "metadata": {},
   "outputs": [],
   "source": []
  },
  {
   "cell_type": "code",
   "execution_count": null,
   "metadata": {},
   "outputs": [],
   "source": []
  }
 ],
 "metadata": {
  "kernelspec": {
   "display_name": "ece4",
   "language": "python",
   "name": "python3"
  },
  "language_info": {
   "codemirror_mode": {
    "name": "ipython",
    "version": 3
   },
   "file_extension": ".py",
   "mimetype": "text/x-python",
   "name": "python",
   "nbconvert_exporter": "python",
   "pygments_lexer": "ipython3",
   "version": "3.10.13"
  }
 },
 "nbformat": 4,
 "nbformat_minor": 2
}
