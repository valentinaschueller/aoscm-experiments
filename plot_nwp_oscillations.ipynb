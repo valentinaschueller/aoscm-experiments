{
 "cells": [
  {
   "cell_type": "code",
   "execution_count": 65,
   "metadata": {},
   "outputs": [],
   "source": [
    "import xarray as xr\n",
    "import proplot as pplt\n",
    "import pandas as pd\n",
    "from AOSCMcoupling.files import OIFSPreprocessor, NEMOPreprocessor\n",
    "import numpy as np\n",
    "import warnings\n",
    "from pathlib import Path"
   ]
  },
  {
   "cell_type": "code",
   "execution_count": 66,
   "metadata": {},
   "outputs": [],
   "source": [
    "version_marker = \"ECE3, OpenIFS 40r1\"\n",
    "max_iters = 40"
   ]
  },
  {
   "cell_type": "code",
   "execution_count": 67,
   "metadata": {},
   "outputs": [],
   "source": [
    "def load_iterates(\n",
    "    file_name: str, preprocess: callable, max_iters: int, dir: Path,\n",
    ") -> xr.Dataset:\n",
    "    assert(Path(dir).is_dir())\n",
    "    swr_dim = xr.DataArray(np.arange(max_iters) + 1, dims=\"swr_iterate\")\n",
    "    iterates = [\n",
    "        xr.open_mfdataset(f\"{dir}/iter_{iter}/{file_name}\", preprocess=preprocess)\n",
    "        for iter in range(1, max_iters + 1)\n",
    "    ]\n",
    "    with warnings.catch_warnings():\n",
    "        warnings.simplefilter(\"ignore\")\n",
    "        iterates = xr.concat(iterates, swr_dim)\n",
    "    return iterates"
   ]
  },
  {
   "cell_type": "code",
   "execution_count": 68,
   "metadata": {},
   "outputs": [],
   "source": [
    "start_date_warm = pd.Timestamp(\"2020-07-03 00:00\")\n",
    "oifs_preprocessor = OIFSPreprocessor(start_date_warm)\n",
    "nemo_preprocessor = NEMOPreprocessor(start_date_warm)\n",
    "\n",
    "oifs_progvars = []\n",
    "\n",
    "dates = [\"2014-07-03_00\", \"2014-07-12_18\", \"2014-07-25_12\"]\n",
    "dates_43 = [\n",
    "    pd.Timestamp(\"2014-07-19 00:00\"),\n",
    "    pd.Timestamp(\"2014-07-07 06:00\"),\n",
    "    pd.Timestamp(\"2014-07-10 18:00\"),\n",
    "    pd.Timestamp(\"2014-07-24 18:00\"),\n",
    "    pd.Timestamp(\"2014-07-07 18:00\"),\n",
    "    pd.Timestamp(\"2014-07-28 18:00\"),\n",
    "    pd.Timestamp(\"2014-07-17 06:00\"),\n",
    "    pd.Timestamp(\"2014-07-26 12:00\"),\n",
    "    pd.Timestamp(\"2014-07-23 06:00\"),\n",
    "    pd.Timestamp(\"2014-07-11 18:00\"),\n",
    "    pd.Timestamp(\"2014-07-18 06:00\"),\n",
    "]\n",
    "dates_4 = [\n",
    "    pd.Timestamp(\"2014-07-11 12:00\"),\n",
    "    pd.Timestamp(\"2014-07-02 12:00\"),\n",
    "    pd.Timestamp(\"2014-07-24 18:00\"),\n",
    "    pd.Timestamp(\"2014-07-23 12:00\"),\n",
    "    pd.Timestamp(\"2014-07-18 06:00\"),\n",
    "    pd.Timestamp(\"2014-07-14 18:00\"),\n",
    "    pd.Timestamp(\"2014-07-23 00:00\"),\n",
    "]\n",
    "dates = [f\"{date.date()}_{date.time().hour:02}\" for date in dates_4]\n",
    "dirs = [\"output/ensemble_output_nc/\" + date for date in dates]\n",
    "for dir in dirs:\n",
    "    oifs_progvar = load_iterates(\n",
    "        \"progvar.nc\", oifs_preprocessor.preprocess, max_iters, dir\n",
    "    )\n",
    "    oifs_progvars.append(oifs_progvar)"
   ]
  },
  {
   "cell_type": "code",
   "execution_count": null,
   "metadata": {},
   "outputs": [],
   "source": [
    "oifs_progvars[0]"
   ]
  },
  {
   "cell_type": "code",
   "execution_count": null,
   "metadata": {},
   "outputs": [],
   "source": [
    "fig, axs = pplt.subplots(ncols=len(dates), sharey=1)\n",
    "\n",
    "for index, date in enumerate(dates):\n",
    "    ax = axs[index]\n",
    "    data = oifs_progvars[index].t.isel(time=-1, nlev=-1) - 273.15\n",
    "    data = data.sel(swr_iterate=range(20, 41))\n",
    "    ax.plot(data, color=\"k\", marker=\".\")\n",
    "    ax.format(\n",
    "        ylabel=\"Temperature [°C]\",\n",
    "        xlabel=\"Iteration\",\n",
    "        xlim=[20, 40],\n",
    "        title=date,\n",
    "    )\n",
    "\n",
    "axs.format(\n",
    "    abc=\"a)\",\n",
    "    abcloc='ul',\n",
    ")\n",
    "fig.savefig(\"nwp_oscillations_ece4.pdf\")"
   ]
  },
  {
   "cell_type": "code",
   "execution_count": 96,
   "metadata": {},
   "outputs": [],
   "source": [
    "dates_3 = np.array([\n",
    "    pd.Timestamp(\"2014-07-03 00:00:00\"),\n",
    "    pd.Timestamp(\"2014-07-12 18:00:00\"),\n",
    "    pd.Timestamp(\"2014-07-25 12:00:00\"),\n",
    "])\n",
    "dates_43 = np.array([\n",
    "    pd.Timestamp(\"2014-07-19 00:00\"),\n",
    "    pd.Timestamp(\"2014-07-07 06:00\"),\n",
    "    pd.Timestamp(\"2014-07-10 18:00\"),\n",
    "    pd.Timestamp(\"2014-07-24 18:00\"),\n",
    "    pd.Timestamp(\"2014-07-07 18:00\"),\n",
    "    pd.Timestamp(\"2014-07-28 18:00\"),\n",
    "    pd.Timestamp(\"2014-07-17 06:00\"),\n",
    "    pd.Timestamp(\"2014-07-26 12:00\"),\n",
    "    pd.Timestamp(\"2014-07-23 06:00\"),\n",
    "    pd.Timestamp(\"2014-07-11 18:00\"),\n",
    "    pd.Timestamp(\"2014-07-18 06:00\"),\n",
    "])\n",
    "dates_4 = np.array([\n",
    "    pd.Timestamp(\"2014-07-11 12:00\"),\n",
    "    pd.Timestamp(\"2014-07-02 12:00\"),\n",
    "    pd.Timestamp(\"2014-07-24 18:00\"),\n",
    "    pd.Timestamp(\"2014-07-23 12:00\"),\n",
    "    pd.Timestamp(\"2014-07-18 06:00\"),\n",
    "    pd.Timestamp(\"2014-07-14 18:00\"),\n",
    "    pd.Timestamp(\"2014-07-23 00:00\"),\n",
    "])\n",
    "all_dates = np.array(pd.date_range(pd.Timestamp(\"2014-07-01 00:00\"), pd.Timestamp(\"2014-07-28 18:00\"), freq=pd.Timedelta(6, \"h\")), dtype=pd.Timestamp)\n",
    "\n",
    "\n",
    "bdates_4 = np.zeros(all_dates.shape)\n",
    "for index, date in enumerate(all_dates):\n",
    "    if date in dates_4:\n",
    "        bdates_4[index] = 1\n",
    "\n",
    "bdates_3 = np.zeros(all_dates.shape)\n",
    "for index, date in enumerate(all_dates):\n",
    "    if date in dates_3:\n",
    "        bdates_3[index] = 1\n",
    "\n",
    "bdates_43 = np.zeros(all_dates.shape)\n",
    "for index, date in enumerate(all_dates):\n",
    "    if date in dates_43:\n",
    "        bdates_43[index] = 1"
   ]
  },
  {
   "cell_type": "code",
   "execution_count": null,
   "metadata": {},
   "outputs": [],
   "source": [
    "fig, ax = pplt.subplots(height=\"10em\", width=\"80em\")\n",
    "ax.pcolormesh(np.array([bdates_3, bdates_43, bdates_4]))\n",
    "ax.format(yticks=[0,1,2],yticklabels=[\"ECE3\", \"ECE43\", \"ECE4\"],ytickminor=False)"
   ]
  }
 ],
 "metadata": {
  "kernelspec": {
   "display_name": "aoscm",
   "language": "python",
   "name": "python3"
  },
  "language_info": {
   "codemirror_mode": {
    "name": "ipython",
    "version": 3
   },
   "file_extension": ".py",
   "mimetype": "text/x-python",
   "name": "python",
   "nbconvert_exporter": "python",
   "pygments_lexer": "ipython3",
   "version": "3.10.15"
  }
 },
 "nbformat": 4,
 "nbformat_minor": 2
}
