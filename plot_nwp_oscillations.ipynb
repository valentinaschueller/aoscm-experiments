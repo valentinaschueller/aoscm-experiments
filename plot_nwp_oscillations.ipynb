{
 "cells": [
  {
   "cell_type": "code",
   "execution_count": 1,
   "metadata": {},
   "outputs": [],
   "source": [
    "import xarray as xr\n",
    "import proplot as pplt\n",
    "import pandas as pd\n",
    "from AOSCMcoupling.files import OIFSPreprocessor, NEMOPreprocessor\n",
    "import numpy as np\n",
    "import warnings\n",
    "from pathlib import Path"
   ]
  },
  {
   "cell_type": "code",
   "execution_count": 3,
   "metadata": {},
   "outputs": [],
   "source": [
    "def load_iterates(\n",
    "    file_name: str, preprocess: callable, max_iters: int, dir: Path,\n",
    ") -> xr.Dataset:\n",
    "    assert(Path(dir).is_dir())\n",
    "    swr_dim = xr.DataArray(np.arange(max_iters) + 1, dims=\"swr_iterate\")\n",
    "    iterates = [\n",
    "        xr.open_mfdataset(f\"{dir}/iter_{iter}/{file_name}\", preprocess=preprocess)\n",
    "        for iter in range(1, max_iters + 1)\n",
    "    ]\n",
    "    with warnings.catch_warnings():\n",
    "        warnings.simplefilter(\"ignore\")\n",
    "        iterates = xr.concat(iterates, swr_dim)\n",
    "    return iterates"
   ]
  },
  {
   "cell_type": "code",
   "execution_count": 4,
   "metadata": {},
   "outputs": [],
   "source": [
    "title_3 = \"ECE3, OpenIFS 40r1\"\n",
    "dates_3 = np.array([\n",
    "    pd.Timestamp(\"2014-07-03 00:00:00\"),\n",
    "    pd.Timestamp(\"2014-07-12 18:00:00\"),\n",
    "    pd.Timestamp(\"2014-07-25 12:00:00\"),\n",
    "])\n",
    "dirs_3 = [\"PAPA/ensemble_output_nc/\" + f\"{date.date()}_{date.time().hour:02}\" for date in dates_3]\n",
    "\n",
    "title_43 = \"ECE3, OpenIFS 43r3\"\n",
    "dates_43 = [\n",
    "    pd.Timestamp(\"2014-07-19 00:00\"),\n",
    "    pd.Timestamp(\"2014-07-07 06:00\"),\n",
    "    pd.Timestamp(\"2014-07-10 18:00\"),\n",
    "    pd.Timestamp(\"2014-07-24 18:00\"),\n",
    "    pd.Timestamp(\"2014-07-07 18:00\"),\n",
    "    pd.Timestamp(\"2014-07-28 18:00\"),\n",
    "    pd.Timestamp(\"2014-07-17 06:00\"),\n",
    "    pd.Timestamp(\"2014-07-26 12:00\"),\n",
    "    pd.Timestamp(\"2014-07-23 06:00\"),\n",
    "    pd.Timestamp(\"2014-07-11 18:00\"),\n",
    "    pd.Timestamp(\"2014-07-18 06:00\"),\n",
    "]\n",
    "dirs_43 = [\"PAPA/ensemble_output_43_nc/\" + f\"{date.date()}_{date.time().hour:02}\" for date in dates_43]\n",
    "\n",
    "title_4 = \"ECE4, OpenIFS43r3\"\n",
    "dates_4 = [\n",
    "    pd.Timestamp(\"2014-07-11 12:00\"),\n",
    "    pd.Timestamp(\"2014-07-02 12:00\"),\n",
    "    pd.Timestamp(\"2014-07-24 18:00\"),\n",
    "    pd.Timestamp(\"2014-07-23 12:00\"),\n",
    "    pd.Timestamp(\"2014-07-18 06:00\"),\n",
    "    pd.Timestamp(\"2014-07-14 18:00\"),\n",
    "    pd.Timestamp(\"2014-07-23 00:00\"),\n",
    "]\n",
    "dirs_4 = [\"output/ensemble_output_nc/\" + f\"{date.date()}_{date.time().hour:02}\" for date in dates_4]"
   ]
  },
  {
   "cell_type": "code",
   "execution_count": 5,
   "metadata": {},
   "outputs": [],
   "source": [
    "def get_dirs_dates_title(version: int):\n",
    "    if version == 3:\n",
    "        return dirs_3, dates_3, title_3\n",
    "    if version == 43:\n",
    "        return dirs_43, dates_43, title_43\n",
    "    if version == 4:\n",
    "        return dirs_4, dates_4, title_4"
   ]
  },
  {
   "cell_type": "code",
   "execution_count": 6,
   "metadata": {},
   "outputs": [],
   "source": [
    "version = 3\n",
    "dirs, dates, title = get_dirs_dates_title(version)"
   ]
  },
  {
   "cell_type": "code",
   "execution_count": 7,
   "metadata": {},
   "outputs": [],
   "source": [
    "start_date = pd.Timestamp(\"2020-07-03 00:00\")\n",
    "oifs_preprocessor = OIFSPreprocessor(start_date)\n",
    "nemo_preprocessor = NEMOPreprocessor(start_date)\n",
    "\n",
    "oifs_progvars = []\n",
    "\n",
    "for dir in dirs:\n",
    "    oifs_progvar = load_iterates(\n",
    "        \"progvar.nc\", oifs_preprocessor.preprocess, 40, dir\n",
    "    )\n",
    "    oifs_progvars.append(oifs_progvar)"
   ]
  },
  {
   "cell_type": "code",
   "execution_count": null,
   "metadata": {},
   "outputs": [],
   "source": [
    "fig, axs = pplt.subplots(ncols=len(dates), sharey=1)\n",
    "\n",
    "for index, date in enumerate(dates):\n",
    "    ax = axs[index]\n",
    "    data = oifs_progvars[index].t.isel(time=-1, nlev=-1) - 273.15\n",
    "    data = data.sel(swr_iterate=range(20, 41))\n",
    "    ax.plot(data, color=\"k\", marker=\".\")\n",
    "    ax.format(\n",
    "        ylabel=\"Temperature [°C]\",\n",
    "        xlabel=\"Iteration\",\n",
    "        xlim=[20, 40],\n",
    "        title=date,\n",
    "    )\n",
    "\n",
    "fig.format(suptitle=title)\n",
    "axs.format(\n",
    "    abc=\"a)\",\n",
    "    abcloc='ul',\n",
    ")\n",
    "fig.savefig(f\"nwp_oscillations_ece{version}.pdf\")"
   ]
  },
  {
   "cell_type": "code",
   "execution_count": null,
   "metadata": {},
   "outputs": [],
   "source": [
    "amplitudes = []\n",
    "update_sizes = []\n",
    "for index, date in enumerate(dates):\n",
    "    first_iteration_value = float(oifs_progvars[index].t.isel(time=-1, nlev=-1, swr_iterate=0))\n",
    "    max_oscillation_value = float((oifs_progvars[index].t.isel(time=-1, nlev=-1))[30:].max())\n",
    "    min_oscillation_value = float((oifs_progvars[index].t.isel(time=-1, nlev=-1))[30:].min())\n",
    "    avg_oscillation_value = float((oifs_progvars[index].t.isel(time=-1, nlev=-1))[30:].mean())\n",
    "\n",
    "\n",
    "    amplitude = max_oscillation_value - min_oscillation_value\n",
    "    update_size = abs(first_iteration_value - avg_oscillation_value)\n",
    "\n",
    "    update_sizes.append(update_size)\n",
    "    amplitudes.append(amplitude)\n",
    "\n",
    "version = 3\n",
    "fig, ax = pplt.subplots()\n",
    "ax.scatter(update_sizes, label=\"Update\", marker=\".\")\n",
    "ax.scatter(amplitudes, label=\"Amplitude\", marker=\"x\")\n",
    "ax.format(ylabel=\"Temperature [°C]\", xlabel=\"Index\", title=title, ylim=[0,0.5])\n",
    "ax.legend(ncols=1)\n",
    "\n",
    "fig.savefig(f\"update_vs_amplitude_size_{version}.png\", dpi=300)"
   ]
  },
  {
   "cell_type": "code",
   "execution_count": 10,
   "metadata": {},
   "outputs": [],
   "source": [
    "all_dates = np.array(pd.date_range(pd.Timestamp(\"2014-07-01 00:00\"), pd.Timestamp(\"2014-07-28 18:00\"), freq=pd.Timedelta(6, \"h\")), dtype=pd.Timestamp)\n",
    "\n",
    "\n",
    "bdates_4 = np.zeros(all_dates.shape)\n",
    "for index, date in enumerate(all_dates):\n",
    "    if date in dates_4:\n",
    "        bdates_4[index] = 1\n",
    "\n",
    "bdates_3 = np.zeros(all_dates.shape)\n",
    "for index, date in enumerate(all_dates):\n",
    "    if date in dates_3:\n",
    "        bdates_3[index] = 1\n",
    "\n",
    "bdates_43 = np.zeros(all_dates.shape)\n",
    "for index, date in enumerate(all_dates):\n",
    "    if date in dates_43:\n",
    "        bdates_43[index] = 1"
   ]
  },
  {
   "cell_type": "code",
   "execution_count": null,
   "metadata": {},
   "outputs": [],
   "source": [
    "fig, ax = pplt.subplots(height=\"10em\", width=\"80em\")\n",
    "ax.pcolormesh(np.array([bdates_3, bdates_43, bdates_4]))\n",
    "ax.format(yticks=[0,1,2],yticklabels=[\"ECE3\", \"ECE43\", \"ECE4\"],ytickminor=False)"
   ]
  }
 ],
 "metadata": {
  "kernelspec": {
   "display_name": "aoscm",
   "language": "python",
   "name": "python3"
  },
  "language_info": {
   "codemirror_mode": {
    "name": "ipython",
    "version": 3
   },
   "file_extension": ".py",
   "mimetype": "text/x-python",
   "name": "python",
   "nbconvert_exporter": "python",
   "pygments_lexer": "ipython3",
   "version": "3.10.15"
  }
 },
 "nbformat": 4,
 "nbformat_minor": 2
}
