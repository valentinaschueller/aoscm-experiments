{
 "cells": [
  {
   "cell_type": "code",
   "execution_count": 2,
   "metadata": {},
   "outputs": [],
   "source": [
    "import xarray as xr\n",
    "import proplot as pplt\n",
    "import pandas as pd\n",
    "from AOSCMcoupling.files import OIFSEnsemblePreprocessor, NEMOEnsemblePreprocessor\n",
    "import numpy as np\n",
    "from pathlib import Path\n",
    "from ruamel.yaml import YAML"
   ]
  },
  {
   "cell_type": "code",
   "execution_count": 3,
   "metadata": {},
   "outputs": [],
   "source": [
    "def vector_norm(x, dim, ord=None):\n",
    "    return xr.apply_ufunc(\n",
    "        np.linalg.norm, x, input_core_dims=[[dim]], kwargs={\"ord\": ord, \"axis\": -1}\n",
    "    )"
   ]
  },
  {
   "cell_type": "code",
   "execution_count": null,
   "metadata": {},
   "outputs": [],
   "source": [
    "output_dir = Path(\"../PAPA/ensemble_output_nomf\")\n",
    "oifs_preprocessor = OIFSEnsemblePreprocessor(pd.Timedelta(-7, \"h\"))\n",
    "nemo_preprocessor = NEMOEnsemblePreprocessor(pd.Timedelta(-7, \"h\"))"
   ]
  },
  {
   "cell_type": "code",
   "execution_count": 6,
   "metadata": {},
   "outputs": [
    {
     "name": "stdout",
     "output_type": "stream",
     "text": [
      "Number of Experiments: 112\n"
     ]
    }
   ],
   "source": [
    "experiment_directories = []\n",
    "yaml = YAML(typ=\"unsafe\", pure=True)\n",
    "for date_dir in output_dir.glob(\"*\"):\n",
    "    if not date_dir.is_dir():\n",
    "        continue\n",
    "    with open(date_dir / \"schwarz\" / \"setup_dict.yaml\") as yaml_file:\n",
    "        experiment = yaml.load(yaml_file)\n",
    "        converged = (\n",
    "            experiment[\"iterate_converged\"][\"2-norm\"]\n",
    "            and experiment[\"iterate_converged\"][\"inf-norm\"]\n",
    "        )\n",
    "        if not converged:\n",
    "            continue\n",
    "    for experiment_dir in date_dir.glob(\"*\"):\n",
    "        experiment_directories.append(experiment_dir)\n",
    "\n",
    "print(f\"Number of Experiments: {int(len(experiment_directories) / 4)}\")\n",
    "\n",
    "progvars_ensemble = [\n",
    "    experiment_dir / \"progvar.nc\" for experiment_dir in experiment_directories\n",
    "]\n",
    "nemo_t_ensemble = [\n",
    "    next(experiment_dir.glob(\"*_grid_T*.nc\"))\n",
    "    for experiment_dir in experiment_directories\n",
    "]"
   ]
  },
  {
   "cell_type": "code",
   "execution_count": 7,
   "metadata": {},
   "outputs": [],
   "source": [
    "colors = [\"m\", \"c\", \"y\", \"k\"]\n",
    "cpl_schemes = [\"parallel\", \"atm-first\", \"oce-first\", \"converged SWR\"]\n",
    "labels = [\"parallel\", \"atmosphere-first\", \"ocean-first\", \"converged SWR\"]\n",
    "markers = [\".\", \"x\", \"1\", \"+\"]"
   ]
  },
  {
   "attachments": {},
   "cell_type": "markdown",
   "metadata": {},
   "source": [
    "# OpenIFS"
   ]
  },
  {
   "cell_type": "code",
   "execution_count": 8,
   "metadata": {},
   "outputs": [],
   "source": [
    "prog_ensemble = xr.open_mfdataset(\n",
    "    progvars_ensemble, preprocess=oifs_preprocessor.preprocess_ensemble\n",
    ")\n",
    "prog_forecast = prog_ensemble.isel(time=-1)\n",
    "prog_forecast = prog_forecast.assign_coords(\n",
    "    start_date=prog_forecast.start_date + prog_forecast.time\n",
    ")\n",
    "prog_forecast = prog_forecast.rename(start_date=\"end_date\")"
   ]
  },
  {
   "cell_type": "code",
   "execution_count": 9,
   "metadata": {},
   "outputs": [],
   "source": [
    "prog_forecast_diff = prog_forecast - prog_forecast.sel(coupling_scheme=\"converged SWR\")"
   ]
  },
  {
   "attachments": {},
   "cell_type": "markdown",
   "metadata": {},
   "source": [
    "## Temperature in Boundary Layer"
   ]
  },
  {
   "cell_type": "code",
   "execution_count": 10,
   "metadata": {},
   "outputs": [],
   "source": [
    "t_pbl_diff = prog_forecast_diff.t.sel(nlev=np.arange(51, 61))\n",
    "t_pbl_diff = t_pbl_diff.drop_sel(coupling_scheme=\"converged SWR\")\n",
    "t_pbl_diff_l2 = vector_norm(t_pbl_diff.load(), \"nlev\", 2)\n",
    "argmin_t_pbl_diff = t_pbl_diff_l2.argmin(\"coupling_scheme\")"
   ]
  },
  {
   "cell_type": "code",
   "execution_count": 11,
   "metadata": {},
   "outputs": [
    {
     "name": "stdout",
     "output_type": "stream",
     "text": [
      "atm-first: 54\n",
      "oce-first: 43\n",
      "parallel: 15\n"
     ]
    }
   ],
   "source": [
    "winner_count = argmin_t_pbl_diff.groupby(argmin_t_pbl_diff).count()\n",
    "for index, cpl_scheme in enumerate(t_pbl_diff_l2.coupling_scheme.data):\n",
    "    print(f\"{cpl_scheme}: {int(winner_count[index])}\")"
   ]
  },
  {
   "cell_type": "code",
   "execution_count": 12,
   "metadata": {},
   "outputs": [
    {
     "name": "stdout",
     "output_type": "stream",
     "text": [
      "e_max(T): 0.805267333984375\n"
     ]
    }
   ],
   "source": [
    "max_t_diff = float(t_pbl_diff.max().load())\n",
    "print(f\"e_max(T): {max_t_diff}\")"
   ]
  },
  {
   "cell_type": "code",
   "execution_count": 13,
   "metadata": {},
   "outputs": [],
   "source": [
    "def get_group(label: str, grouped_array) -> list:\n",
    "    coupling_schemes = [\"atm-first\", \"oce-first\", \"parallel\"]\n",
    "    group = []\n",
    "    for cpl_scheme in coupling_schemes:\n",
    "        try:\n",
    "            count = grouped_array[label].sel(coupling_scheme=cpl_scheme).shape[0]\n",
    "        except KeyError:\n",
    "            count = 0\n",
    "        group.append(count)\n",
    "    return group"
   ]
  },
  {
   "cell_type": "code",
   "execution_count": 14,
   "metadata": {},
   "outputs": [],
   "source": [
    "t_diff_bins = [\n",
    "    0.0,\n",
    "    0.01 * max_t_diff,\n",
    "    0.1 * max_t_diff,\n",
    "    0.2 * max_t_diff,\n",
    "    0.5 * max_t_diff,\n",
    "    max_t_diff,\n",
    "]\n",
    "labels = [\"A\", \"B\", \"C\", \"D\", \"E\"]\n",
    "grouped_t_diffs = t_pbl_diff_l2.groupby_bins(t_pbl_diff_l2, t_diff_bins, labels=labels)\n",
    "\n",
    "groups = []\n",
    "for label in labels:\n",
    "    groups.append(get_group(label, grouped_t_diffs))\n",
    "array = np.array(groups)\n",
    "\n",
    "binned_t_diffs = xr.Dataset(\n",
    "    {\n",
    "        \"t_error\": (\n",
    "            (\"error_range\", \"coupling_scheme\"),\n",
    "            array,\n",
    "        )\n",
    "    },\n",
    "    coords={\n",
    "        \"error_range\": labels,\n",
    "        \"coupling_scheme\": [\"atmosphere-first\", \"ocean-first\", \"parallel\"],\n",
    "    },\n",
    ")"
   ]
  },
  {
   "attachments": {},
   "cell_type": "markdown",
   "metadata": {},
   "source": [
    "## Humidity in Boundary Layer"
   ]
  },
  {
   "cell_type": "code",
   "execution_count": 15,
   "metadata": {},
   "outputs": [],
   "source": [
    "q_pbl_diff = prog_forecast_diff.q.sel(nlev=np.arange(51, 61)) * 1e3\n",
    "q_pbl_diff = q_pbl_diff.drop_sel(coupling_scheme=\"converged SWR\")\n",
    "q_pbl_diff_l2 = vector_norm(q_pbl_diff.load(), \"nlev\", 2)\n",
    "argmin_q_pbl_diff = q_pbl_diff_l2.argmin(\"coupling_scheme\")"
   ]
  },
  {
   "cell_type": "code",
   "execution_count": 16,
   "metadata": {},
   "outputs": [
    {
     "name": "stdout",
     "output_type": "stream",
     "text": [
      "atm-first: 54\n",
      "oce-first: 42\n",
      "parallel: 16\n"
     ]
    }
   ],
   "source": [
    "winner_count = argmin_q_pbl_diff.groupby(argmin_q_pbl_diff).count()\n",
    "for index, cpl_scheme in enumerate(q_pbl_diff_l2.coupling_scheme.data):\n",
    "    print(f\"{cpl_scheme}: {int(winner_count[index])}\")"
   ]
  },
  {
   "cell_type": "code",
   "execution_count": 17,
   "metadata": {},
   "outputs": [
    {
     "name": "stdout",
     "output_type": "stream",
     "text": [
      "e_max(q): 1.8152352571487427\n"
     ]
    }
   ],
   "source": [
    "max_q_diff = float(q_pbl_diff_l2.max().load())\n",
    "print(f\"e_max(q): {max_q_diff}\")"
   ]
  },
  {
   "cell_type": "code",
   "execution_count": 18,
   "metadata": {},
   "outputs": [],
   "source": [
    "q_diff_bins = [\n",
    "    0.0,\n",
    "    0.01 * max_q_diff,\n",
    "    0.1 * max_q_diff,\n",
    "    0.2 * max_q_diff,\n",
    "    0.5 * max_q_diff,\n",
    "    max_q_diff,\n",
    "]\n",
    "labels = [\"A\", \"B\", \"C\", \"D\", \"E\"]\n",
    "grouped_q_diffs = q_pbl_diff_l2.groupby_bins(q_pbl_diff_l2, q_diff_bins, labels=labels)\n",
    "\n",
    "groups = []\n",
    "for label in labels:\n",
    "    groups.append(get_group(label, grouped_q_diffs))\n",
    "array = np.array(groups)\n",
    "\n",
    "binned_q_diffs = xr.Dataset(\n",
    "    {\n",
    "        \"q_error\": (\n",
    "            (\"error_range\", \"coupling_scheme\"),\n",
    "            array,\n",
    "        )\n",
    "    },\n",
    "    coords={\n",
    "        \"error_range\": labels,\n",
    "        \"coupling_scheme\": [\"atmosphere-first\", \"ocean-first\", \"parallel\"],\n",
    "    },\n",
    ")"
   ]
  },
  {
   "attachments": {},
   "cell_type": "markdown",
   "metadata": {},
   "source": [
    "# NEMO"
   ]
  },
  {
   "cell_type": "code",
   "execution_count": 19,
   "metadata": {},
   "outputs": [],
   "source": [
    "nemo_ensemble = xr.open_mfdataset(\n",
    "    nemo_t_ensemble, preprocess=nemo_preprocessor.preprocess_ensemble\n",
    ")"
   ]
  },
  {
   "cell_type": "code",
   "execution_count": 20,
   "metadata": {},
   "outputs": [],
   "source": [
    "nemo_forecast = nemo_ensemble.isel(time=-1)\n",
    "nemo_forecast = nemo_forecast.assign_coords(\n",
    "    start_date=nemo_forecast.start_date + nemo_forecast.time\n",
    ")\n",
    "nemo_forecast = nemo_forecast.rename(start_date=\"end_date\")\n",
    "sst_diff = np.abs(\n",
    "    nemo_forecast - nemo_forecast.sel(coupling_scheme=\"converged SWR\")\n",
    ").sosstsst\n",
    "sst_diff = sst_diff.drop_sel(coupling_scheme=\"converged SWR\")\n",
    "argmin_sst_diff = sst_diff.argmin(\"coupling_scheme\")"
   ]
  },
  {
   "cell_type": "code",
   "execution_count": 21,
   "metadata": {},
   "outputs": [
    {
     "name": "stdout",
     "output_type": "stream",
     "text": [
      "atm-first: 99\n",
      "oce-first: 4\n",
      "parallel: 9\n"
     ]
    }
   ],
   "source": [
    "winner_count = argmin_sst_diff.groupby(argmin_sst_diff).count()\n",
    "for index, cpl_scheme in enumerate(sst_diff.coupling_scheme.data):\n",
    "    print(f\"{cpl_scheme}: {int(winner_count[index])}\")"
   ]
  },
  {
   "cell_type": "code",
   "execution_count": 22,
   "metadata": {},
   "outputs": [
    {
     "name": "stdout",
     "output_type": "stream",
     "text": [
      "e_max(SST): 0.20120525360107422\n"
     ]
    }
   ],
   "source": [
    "max_sst_diff = float(sst_diff.max().load())\n",
    "print(f\"e_max(SST): {max_sst_diff}\")"
   ]
  },
  {
   "cell_type": "code",
   "execution_count": 23,
   "metadata": {},
   "outputs": [],
   "source": [
    "sst_diff_bins = [\n",
    "    0.0,\n",
    "    0.01 * max_sst_diff,\n",
    "    0.1 * max_sst_diff,\n",
    "    0.2 * max_sst_diff,\n",
    "    0.5 * max_sst_diff,\n",
    "    max_sst_diff,\n",
    "]\n",
    "labels = [\"A\", \"B\", \"C\", \"D\", \"E\"]\n",
    "grouped_sst_diffs = sst_diff.groupby_bins(sst_diff, sst_diff_bins, labels=labels)\n",
    "\n",
    "groups = []\n",
    "for label in labels:\n",
    "    groups.append(get_group(label, grouped_sst_diffs))\n",
    "array = np.array(groups)\n",
    "\n",
    "binned_sst_diffs = xr.Dataset(\n",
    "    {\n",
    "        \"sst_error\": (\n",
    "            (\"error_range\", \"coupling_scheme\"),\n",
    "            array,\n",
    "        )\n",
    "    },\n",
    "    coords={\n",
    "        \"error_range\": labels,\n",
    "        \"coupling_scheme\": [\"atmosphere-first\", \"ocean-first\", \"parallel\"],\n",
    "    },\n",
    ")"
   ]
  },
  {
   "cell_type": "code",
   "execution_count": 25,
   "metadata": {},
   "outputs": [
    {
     "data": {
      "image/png": "[encoded data removed]",
      "text/plain": [
       "Figure(nrows=1, ncols=3, figwidth=8.75, figheight=2.75)"
      ]
     },
     "metadata": {
      "image/png": {
       "height": 275,
       "width": 875
      }
     },
     "output_type": "display_data"
    }
   ],
   "source": [
    "fig, axs = pplt.subplots(width=\"70em\", height=\"22em\", ncols=3)\n",
    "cycle = pplt.Cycle([\"c\", \"y\", \"m\"])\n",
    "\n",
    "ax = axs[0]\n",
    "im = ax.bar(binned_sst_diffs.sst_error, cycle=cycle, width=0.5)\n",
    "ax.format(\n",
    "    xticklabels=[\n",
    "        \"$\\leq 0.01$\",\n",
    "        \"$[0.01, 0.1]$\",\n",
    "        \"$[0.1, 0.2]$\",\n",
    "        \"$[0.2, 0.5]$\",\n",
    "        \"$[0.5, 1]$\",\n",
    "    ],\n",
    "    ylabel=\"Number of Experiments\",\n",
    "    xlabel=\"Relative Error Range\",\n",
    "    title=\"Sea Surface Temperature\",\n",
    ")\n",
    "\n",
    "ax = axs[1]\n",
    "ax.bar(binned_t_diffs.t_error, cycle=cycle, width=0.5)\n",
    "ax.format(\n",
    "    xticklabels=[\n",
    "        \"$\\leq 0.01$\",\n",
    "        \"$[0.01, 0.1]$\",\n",
    "        \"$[0.1, 0.2]$\",\n",
    "        \"$[0.2, 0.5]$\",\n",
    "        \"$[0.5, 1]$\",\n",
    "    ],\n",
    "    ylabel=\"Number of Experiments\",\n",
    "    xlabel=\"Relative Error Range\",\n",
    "    title=\"Atmospheric Temperature\",\n",
    ")\n",
    "\n",
    "ax = axs[2]\n",
    "ax.bar(binned_q_diffs.q_error, cycle=cycle, width=0.5)\n",
    "ax.format(\n",
    "    xticklabels=[\n",
    "        \"$\\leq 0.01$\",\n",
    "        \"$[0.01, 0.1]$\",\n",
    "        \"$[0.1, 0.2]$\",\n",
    "        \"$[0.2, 0.5]$\",\n",
    "        \"$[0.5, 1]$\",\n",
    "    ],\n",
    "    ylabel=\"Number of Experiments\",\n",
    "    xlabel=\"Relative Error Range\",\n",
    "    title=\"Humidity\",\n",
    ")\n",
    "axs.format(abc=\"a)\")\n",
    "fig.legend(im, frame=False, ncols=3, loc=\"b\", title=\"\")\n",
    "fig.savefig(\"papa_2d_ensemble_nomf_relative_error_bar.png\", dpi=300)"
   ]
  }
 ],
 "metadata": {
  "kernelspec": {
   "display_name": "aoscm",
   "language": "python",
   "name": "python3"
  },
  "language_info": {
   "codemirror_mode": {
    "name": "ipython",
    "version": 3
   },
   "file_extension": ".py",
   "mimetype": "text/x-python",
   "name": "python",
   "nbconvert_exporter": "python",
   "pygments_lexer": "ipython3",
   "version": "3.10.15"
  }
 },
 "nbformat": 4,
 "nbformat_minor": 2
}
