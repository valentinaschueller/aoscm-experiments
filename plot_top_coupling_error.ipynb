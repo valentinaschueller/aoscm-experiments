{
 "cells": [
  {
   "cell_type": "code",
   "execution_count": 64,
   "metadata": {},
   "outputs": [],
   "source": [
    "import xarray as xr\n",
    "import proplot as pplt\n",
    "from AOSCMcoupling.files import OIFSEnsemblePreprocessor, NEMOEnsemblePreprocessor\n",
    "import numpy as np\n",
    "from pathlib import Path\n",
    "from ruamel.yaml import YAML\n",
    "import warnings"
   ]
  },
  {
   "cell_type": "code",
   "execution_count": 65,
   "metadata": {},
   "outputs": [],
   "source": [
    "def vector_norm(x, dim, ord=None):\n",
    "    return xr.apply_ufunc(\n",
    "        np.linalg.norm, x, input_core_dims=[[dim]], kwargs={\"ord\": ord, \"axis\": -1}\n",
    "    )"
   ]
  },
  {
   "cell_type": "code",
   "execution_count": 66,
   "metadata": {},
   "outputs": [],
   "source": [
    "output_dir = Path(\"output/top_ensemble_cvg\")\n",
    "version_marker = \"ECE4, OpenIFS 43r3\""
   ]
  },
  {
   "cell_type": "code",
   "execution_count": 67,
   "metadata": {},
   "outputs": [],
   "source": [
    "oifs_preprocessor = OIFSEnsemblePreprocessor()\n",
    "nemo_preprocessor = NEMOEnsemblePreprocessor()"
   ]
  },
  {
   "cell_type": "code",
   "execution_count": 68,
   "metadata": {},
   "outputs": [
    {
     "name": "stdout",
     "output_type": "stream",
     "text": [
      "Number of Experiments: 13\n"
     ]
    }
   ],
   "source": [
    "experiment_directories = []\n",
    "yaml = YAML(typ=\"unsafe\", pure=True)\n",
    "for date_dir in output_dir.glob(\"*\"):\n",
    "    if not date_dir.is_dir():\n",
    "        continue\n",
    "    with open(date_dir / \"schwarz\" / \"setup_dict.yaml\") as yaml_file:\n",
    "        experiment = yaml.load(yaml_file)\n",
    "        converged = experiment.iterate_converged[\"2-norm\"] and experiment.iterate_converged[\"inf-norm\"]\n",
    "        if not converged:\n",
    "            continue\n",
    "    for experiment_dir in date_dir.glob(\"*\"):\n",
    "        experiment_directories.append(experiment_dir)\n",
    "\n",
    "print(f\"Number of Experiments: {int(len(experiment_directories) / 4)}\")\n",
    "    \n",
    "progvars_ensemble = [\n",
    "    experiment_dir / \"progvar.nc\" for experiment_dir in experiment_directories\n",
    "]\n",
    "diagvars_ensemble = [\n",
    "    experiment_dir / \"diagvar.nc\" for experiment_dir in experiment_directories\n",
    "]\n",
    "nemo_t_ensemble = [\n",
    "    next(experiment_dir.glob(\"*_grid_T*.nc\"))\n",
    "    for experiment_dir in experiment_directories\n",
    "]\n",
    "ice_ensemble = [\n",
    "    next(experiment_dir.glob(\"*_icemod*.nc\"))\n",
    "    for experiment_dir in experiment_directories\n",
    "]"
   ]
  },
  {
   "cell_type": "code",
   "execution_count": 69,
   "metadata": {},
   "outputs": [],
   "source": [
    "colors = [\"m\", \"c\", \"y\", \"k\"]\n",
    "cpl_schemes = [\"parallel\", \"atm-first\", \"oce-first\", \"converged SWR\"]\n",
    "labels = [\"parallel\", \"atmosphere-first\", \"ocean-first\", \"converged SWR\"]\n",
    "markers = [\".\", \"x\", \"1\", \"+\"]"
   ]
  },
  {
   "cell_type": "code",
   "execution_count": 70,
   "metadata": {},
   "outputs": [],
   "source": [
    "with warnings.catch_warnings():\n",
    "    warnings.simplefilter(\"ignore\")\n",
    "    diag_ensemble = xr.open_mfdataset(\n",
    "        diagvars_ensemble, preprocess=oifs_preprocessor.preprocess_ensemble\n",
    "    )\n",
    "diag_forecast = diag_ensemble.isel(time=-1)\n",
    "diag_forecast = diag_forecast.assign_coords(\n",
    "    start_date=diag_forecast.start_date + diag_forecast.time\n",
    ")\n",
    "diag_forecast = diag_forecast.rename(start_date=\"end_date\")"
   ]
  },
  {
   "attachments": {},
   "cell_type": "markdown",
   "metadata": {},
   "source": [
    "# OpenIFS"
   ]
  },
  {
   "cell_type": "code",
   "execution_count": 71,
   "metadata": {},
   "outputs": [],
   "source": [
    "with warnings.catch_warnings():\n",
    "    warnings.simplefilter(\"ignore\")\n",
    "    prog_ensemble = xr.open_mfdataset(\n",
    "        progvars_ensemble, preprocess=oifs_preprocessor.preprocess_ensemble\n",
    "    )\n",
    "prog_forecast = prog_ensemble.isel(time=-1)\n",
    "prog_forecast = prog_forecast.assign_coords(\n",
    "    start_date=prog_forecast.start_date + prog_forecast.time\n",
    ")\n",
    "prog_forecast = prog_forecast.rename(start_date=\"end_date\")"
   ]
  },
  {
   "cell_type": "code",
   "execution_count": 112,
   "metadata": {},
   "outputs": [
    {
     "name": "stdout",
     "output_type": "stream",
     "text": [
      "218.37901306152344\n",
      "25.102991104125977\n",
      "252.78268432617188\n",
      "3.871309280395508\n"
     ]
    }
   ],
   "source": [
    "print(float(diag_forecast.pbl_height.mean()))\n",
    "print(float(diag_forecast.pbl_height.std()))\n",
    "print(float(prog_forecast.height_f.sel(nlev=128).mean()))\n",
    "print(float(prog_forecast.height_f.sel(nlev=128).std()))"
   ]
  },
  {
   "cell_type": "code",
   "execution_count": 73,
   "metadata": {},
   "outputs": [],
   "source": [
    "prog_forecast_diff = prog_forecast - prog_forecast.sel(coupling_scheme=\"converged SWR\")"
   ]
  },
  {
   "attachments": {},
   "cell_type": "markdown",
   "metadata": {},
   "source": [
    "## Temperature in Boundary Layer"
   ]
  },
  {
   "cell_type": "code",
   "execution_count": 74,
   "metadata": {},
   "outputs": [],
   "source": [
    "t_pbl_diff = prog_forecast_diff.t.sel(nlev=np.arange(128, 138))\n",
    "t_pbl_diff = t_pbl_diff.drop_sel(coupling_scheme=\"converged SWR\")\n",
    "t_pbl_diff_l2 = vector_norm(t_pbl_diff.load(), \"nlev\", 2)\n",
    "argmin_t_pbl_diff = t_pbl_diff_l2.argmin(\"coupling_scheme\")"
   ]
  },
  {
   "cell_type": "code",
   "execution_count": 75,
   "metadata": {},
   "outputs": [
    {
     "name": "stdout",
     "output_type": "stream",
     "text": [
      "atm-first: 2\n",
      "oce-first: 10\n",
      "parallel: 1\n"
     ]
    }
   ],
   "source": [
    "winner_count = argmin_t_pbl_diff.groupby(argmin_t_pbl_diff).count()\n",
    "for index, cpl_scheme in enumerate(t_pbl_diff_l2.coupling_scheme.data):\n",
    "    print(f\"{cpl_scheme}: {int(winner_count[index])}\")\n",
    "    "
   ]
  },
  {
   "cell_type": "code",
   "execution_count": 76,
   "metadata": {},
   "outputs": [
    {
     "name": "stdout",
     "output_type": "stream",
     "text": [
      "e_max(T): 0.066558837890625\n"
     ]
    }
   ],
   "source": [
    "max_t_diff = float(t_pbl_diff.max().load())\n",
    "print(f\"e_max(T): {max_t_diff}\")"
   ]
  },
  {
   "cell_type": "code",
   "execution_count": 77,
   "metadata": {},
   "outputs": [],
   "source": [
    "def get_group(label: str, grouped_array) -> list:\n",
    "    coupling_schemes = [\"atm-first\", \"oce-first\", \"parallel\"]\n",
    "    group = []\n",
    "    for cpl_scheme in coupling_schemes:\n",
    "        try:\n",
    "            count = grouped_array[label].sel(coupling_scheme=cpl_scheme).shape[0]\n",
    "        except KeyError:\n",
    "            count = 0\n",
    "        group.append(count)\n",
    "    return group"
   ]
  },
  {
   "cell_type": "code",
   "execution_count": 78,
   "metadata": {},
   "outputs": [
    {
     "name": "stderr",
     "output_type": "stream",
     "text": [
      "/Users/valentina/miniforge3/envs/ecearth/lib/python3.10/site-packages/numpy/core/numeric.py:407: RuntimeWarning: invalid value encountered in cast\n",
      "  multiarray.copyto(res, fill_value, casting='unsafe')\n"
     ]
    }
   ],
   "source": [
    "t_diff_bins = [0.0, 0.01*max_t_diff, 0.1*max_t_diff, 0.2*max_t_diff, 0.5*max_t_diff, max_t_diff]\n",
    "labels = [\"A\", \"B\", \"C\", \"D\", \"E\"]\n",
    "grouped_t_diffs = t_pbl_diff_l2.groupby_bins(\n",
    "    t_pbl_diff_l2, t_diff_bins, labels=labels\n",
    ")\n",
    "\n",
    "groups = []\n",
    "for label in labels:\n",
    "    groups.append(get_group(label, grouped_t_diffs))\n",
    "array = np.array(groups)\n",
    "\n",
    "binned_t_diffs = xr.Dataset(\n",
    "    {\n",
    "        \"t_error\": (\n",
    "            (\"error_range\", \"coupling_scheme\"),\n",
    "            array,\n",
    "        )\n",
    "    },\n",
    "    coords={\n",
    "        \"error_range\": labels,\n",
    "        \"coupling_scheme\": [\"atmosphere-first\", \"ocean-first\", \"parallel\"],\n",
    "    },\n",
    ")"
   ]
  },
  {
   "attachments": {},
   "cell_type": "markdown",
   "metadata": {},
   "source": [
    "## Humidity in Boundary Layer"
   ]
  },
  {
   "cell_type": "code",
   "execution_count": 79,
   "metadata": {},
   "outputs": [],
   "source": [
    "q_pbl_diff = prog_forecast_diff.q.sel(nlev=np.arange(128, 138)) * 1e3\n",
    "q_pbl_diff = q_pbl_diff.drop_sel(coupling_scheme=\"converged SWR\")\n",
    "q_pbl_diff_l2 = vector_norm(q_pbl_diff.load(), \"nlev\", 2)\n",
    "argmin_q_pbl_diff = q_pbl_diff_l2.argmin(\"coupling_scheme\")"
   ]
  },
  {
   "cell_type": "code",
   "execution_count": 80,
   "metadata": {},
   "outputs": [
    {
     "name": "stdout",
     "output_type": "stream",
     "text": [
      "atm-first: 1\n",
      "oce-first: 11\n",
      "parallel: 1\n"
     ]
    }
   ],
   "source": [
    "winner_count = argmin_q_pbl_diff.groupby(argmin_q_pbl_diff).count()\n",
    "for index, cpl_scheme in enumerate(q_pbl_diff_l2.coupling_scheme.data):\n",
    "    print(f\"{cpl_scheme}: {int(winner_count[index])}\")"
   ]
  },
  {
   "cell_type": "code",
   "execution_count": 81,
   "metadata": {},
   "outputs": [
    {
     "name": "stdout",
     "output_type": "stream",
     "text": [
      "e_max(q): 0.014207528904080391\n"
     ]
    }
   ],
   "source": [
    "max_q_diff = float(q_pbl_diff_l2.max().load())\n",
    "print(f\"e_max(q): {max_q_diff}\")"
   ]
  },
  {
   "cell_type": "code",
   "execution_count": 82,
   "metadata": {},
   "outputs": [
    {
     "name": "stderr",
     "output_type": "stream",
     "text": [
      "/Users/valentina/miniforge3/envs/ecearth/lib/python3.10/site-packages/numpy/core/numeric.py:407: RuntimeWarning: invalid value encountered in cast\n",
      "  multiarray.copyto(res, fill_value, casting='unsafe')\n"
     ]
    }
   ],
   "source": [
    "q_diff_bins = [0.0, 0.01*max_q_diff, 0.1*max_q_diff, 0.2*max_q_diff, 0.5*max_q_diff, max_q_diff]\n",
    "labels = [\"A\", \"B\", \"C\", \"D\", \"E\"]\n",
    "grouped_q_diffs = q_pbl_diff_l2.groupby_bins(\n",
    "    q_pbl_diff_l2, q_diff_bins, labels=labels\n",
    ")\n",
    "\n",
    "groups = []\n",
    "for label in labels:\n",
    "    groups.append(get_group(label, grouped_q_diffs))\n",
    "array = np.array(groups)\n",
    "\n",
    "binned_q_diffs = xr.Dataset(\n",
    "    {\n",
    "        \"q_error\": (\n",
    "            (\"error_range\", \"coupling_scheme\"),\n",
    "            array,\n",
    "        )\n",
    "    },\n",
    "    coords={\n",
    "        \"error_range\": labels,\n",
    "        \"coupling_scheme\": [\"atmosphere-first\", \"ocean-first\", \"parallel\"],\n",
    "    },\n",
    ")"
   ]
  },
  {
   "attachments": {},
   "cell_type": "markdown",
   "metadata": {},
   "source": [
    "# NEMO"
   ]
  },
  {
   "cell_type": "code",
   "execution_count": 83,
   "metadata": {},
   "outputs": [],
   "source": [
    "with warnings.catch_warnings():\n",
    "    warnings.simplefilter(\"ignore\")\n",
    "    nemo_ensemble = xr.open_mfdataset(\n",
    "        nemo_t_ensemble, preprocess=nemo_preprocessor.preprocess_ensemble\n",
    "    )"
   ]
  },
  {
   "cell_type": "code",
   "execution_count": 84,
   "metadata": {},
   "outputs": [],
   "source": [
    "nemo_forecast = nemo_ensemble.isel(time=-1)\n",
    "nemo_forecast = nemo_forecast.assign_coords(\n",
    "    start_date=nemo_forecast.start_date + nemo_forecast.time\n",
    ")\n",
    "nemo_forecast = nemo_forecast.rename(start_date=\"end_date\")\n",
    "sst_diff = np.abs(\n",
    "    nemo_forecast - nemo_forecast.sel(coupling_scheme=\"converged SWR\")\n",
    ").sosstsst\n",
    "sst_diff = sst_diff.drop_sel(coupling_scheme=\"converged SWR\")\n",
    "argmin_sst_diff = sst_diff.argmin(\"coupling_scheme\")"
   ]
  },
  {
   "cell_type": "code",
   "execution_count": 85,
   "metadata": {},
   "outputs": [
    {
     "name": "stdout",
     "output_type": "stream",
     "text": [
      "atm-first: 12\n",
      "oce-first: 1\n"
     ]
    }
   ],
   "source": [
    "winner_count = argmin_sst_diff.groupby(argmin_sst_diff).count()\n",
    "for index, cpl_scheme in enumerate(sst_diff.coupling_scheme.data):\n",
    "    try:\n",
    "        print(f\"{cpl_scheme}: {int(winner_count[index])}\")\n",
    "    except IndexError:\n",
    "        pass"
   ]
  },
  {
   "cell_type": "code",
   "execution_count": 86,
   "metadata": {},
   "outputs": [
    {
     "name": "stdout",
     "output_type": "stream",
     "text": [
      "e_max(SST): 0.004395484924316406\n"
     ]
    }
   ],
   "source": [
    "max_sst_diff = float(sst_diff.max().load())\n",
    "print(f\"e_max(SST): {max_sst_diff}\")"
   ]
  },
  {
   "cell_type": "code",
   "execution_count": 87,
   "metadata": {},
   "outputs": [
    {
     "name": "stderr",
     "output_type": "stream",
     "text": [
      "/Users/valentina/miniforge3/envs/ecearth/lib/python3.10/site-packages/numpy/core/numeric.py:407: RuntimeWarning: invalid value encountered in cast\n",
      "  multiarray.copyto(res, fill_value, casting='unsafe')\n"
     ]
    }
   ],
   "source": [
    "sst_diff_bins = [0.0, 0.01*max_sst_diff, 0.1*max_sst_diff, 0.2*max_sst_diff, 0.5*max_sst_diff, max_sst_diff]\n",
    "labels = [\"A\", \"B\", \"C\", \"D\", \"E\"]\n",
    "grouped_sst_diffs = sst_diff.groupby_bins(\n",
    "    sst_diff, sst_diff_bins, labels=labels\n",
    ")\n",
    "\n",
    "groups = []\n",
    "for label in labels:\n",
    "    groups.append(get_group(label, grouped_sst_diffs))\n",
    "array = np.array(groups)\n",
    "\n",
    "binned_sst_diffs = xr.Dataset(\n",
    "    {\n",
    "        \"sst_error\": (\n",
    "            (\"error_range\", \"coupling_scheme\"),\n",
    "            array,\n",
    "        )\n",
    "    },\n",
    "    coords={\n",
    "        \"error_range\": labels,\n",
    "        \"coupling_scheme\": [\"atmosphere-first\", \"ocean-first\", \"parallel\"],\n",
    "    },\n",
    ")"
   ]
  },
  {
   "cell_type": "code",
   "execution_count": 88,
   "metadata": {},
   "outputs": [],
   "source": [
    "with warnings.catch_warnings():\n",
    "    warnings.simplefilter(\"ignore\")\n",
    "    ice_ensemble = xr.open_mfdataset(\n",
    "        ice_ensemble, preprocess=nemo_preprocessor.preprocess_ensemble\n",
    "    )"
   ]
  },
  {
   "cell_type": "code",
   "execution_count": 89,
   "metadata": {},
   "outputs": [],
   "source": [
    "ice_forecast = ice_ensemble.isel(time=-1)\n",
    "ice_forecast = ice_forecast.assign_coords(\n",
    "    start_date=ice_forecast.start_date + ice_forecast.time\n",
    ")\n",
    "ice_forecast = ice_forecast.rename(start_date=\"end_date\")\n",
    "ist_diff = np.abs(\n",
    "    ice_forecast - ice_forecast.sel(coupling_scheme=\"converged SWR\")\n",
    ").icettop\n",
    "ist_diff = ist_diff.drop_sel(coupling_scheme=\"converged SWR\")\n",
    "argmin_ist_diff = ist_diff.argmin(\"coupling_scheme\")"
   ]
  },
  {
   "cell_type": "code",
   "execution_count": 91,
   "metadata": {},
   "outputs": [
    {
     "name": "stdout",
     "output_type": "stream",
     "text": [
      "atm-first: 13\n"
     ]
    }
   ],
   "source": [
    "winner_count = argmin_ist_diff.groupby(argmin_ist_diff).count()\n",
    "for index, cpl_scheme in enumerate(ist_diff.coupling_scheme.data):\n",
    "    try:\n",
    "        print(f\"{cpl_scheme}: {int(winner_count[index])}\")\n",
    "    except IndexError:\n",
    "        pass"
   ]
  },
  {
   "cell_type": "code",
   "execution_count": 92,
   "metadata": {},
   "outputs": [
    {
     "name": "stdout",
     "output_type": "stream",
     "text": [
      "e_max(IST): 1.8565349578857422\n"
     ]
    }
   ],
   "source": [
    "max_ist_diff = float(ist_diff.max().load())\n",
    "print(f\"e_max(IST): {max_ist_diff}\")"
   ]
  },
  {
   "cell_type": "code",
   "execution_count": 96,
   "metadata": {},
   "outputs": [
    {
     "name": "stderr",
     "output_type": "stream",
     "text": [
      "/Users/valentina/miniforge3/envs/ecearth/lib/python3.10/site-packages/numpy/core/numeric.py:407: RuntimeWarning: invalid value encountered in cast\n",
      "  multiarray.copyto(res, fill_value, casting='unsafe')\n"
     ]
    }
   ],
   "source": [
    "ist_diff_bins = [0.0, 0.01*max_ist_diff, 0.1*max_ist_diff, 0.2*max_ist_diff, 0.5*max_ist_diff, max_ist_diff]\n",
    "labels = [\"A\", \"B\", \"C\", \"D\", \"E\"]\n",
    "grouped_ist_diffs = ist_diff.groupby_bins(\n",
    "    ist_diff, ist_diff_bins, labels=labels\n",
    ")\n",
    "\n",
    "groups = []\n",
    "for label in labels:\n",
    "    groups.append(get_group(label, grouped_ist_diffs))\n",
    "array = np.array(groups)\n",
    "\n",
    "binned_ist_diffs = xr.Dataset(\n",
    "    {\n",
    "        \"ist_error\": (\n",
    "            (\"error_range\", \"coupling_scheme\"),\n",
    "            array,\n",
    "        )\n",
    "    },\n",
    "    coords={\n",
    "        \"error_range\": labels,\n",
    "        \"coupling_scheme\": [\"atmosphere-first\", \"ocean-first\", \"parallel\"],\n",
    "    },\n",
    ")"
   ]
  },
  {
   "cell_type": "code",
   "execution_count": 111,
   "metadata": {},
   "outputs": [
    {
     "data": {
      "image/png": "[encoded data removed]",
      "text/plain": [
       "Figure(nrows=2, ncols=2, figwidth=7.5, figheight=5.62)"
      ]
     },
     "metadata": {
      "image/png": {
       "height": 562,
       "width": 750
      }
     },
     "output_type": "display_data"
    }
   ],
   "source": [
    "fig, axs = pplt.subplots(width=\"60em\", height=\"45em\", ncols=2, nrows=2, sharey=4)\n",
    "cycle = pplt.Cycle([\"c\", \"y\", \"m\"])\n",
    "\n",
    "ax = axs[0]\n",
    "im = ax.bar(binned_sst_diffs.sst_error, cycle=cycle, width=0.5)\n",
    "ax.format(\n",
    "    xticklabels=[\n",
    "        \"$\\leq 0.01$\",\n",
    "        \"$[0.01, 0.1]$\",\n",
    "        \"$[0.1, 0.2]$\",\n",
    "        \"$[0.2, 0.5]$\",\n",
    "        \"$[0.5, 1]$\",\n",
    "    ],\n",
    "    ylabel=\"Number of Experiments\",\n",
    "    xlabel=\"Relative Error Range\",\n",
    "    title=\"Sea Surface Temperature\",\n",
    ")\n",
    "\n",
    "ax = axs[1]\n",
    "im = ax.bar(binned_ist_diffs.ist_error, cycle=cycle, width=0.5)\n",
    "ax.format(\n",
    "    xticklabels=[\n",
    "        \"$\\leq 0.01$\",\n",
    "        \"$[0.01, 0.1]$\",\n",
    "        \"$[0.1, 0.2]$\",\n",
    "        \"$[0.2, 0.5]$\",\n",
    "        \"$[0.5, 1]$\",\n",
    "    ],\n",
    "    ylabel=\"Number of Experiments\",\n",
    "    xlabel=\"Relative Error Range\",\n",
    "    title=\"Ice Surface Temperature\",\n",
    ")\n",
    "\n",
    "ax = axs[2]\n",
    "ax.bar(binned_t_diffs.t_error, cycle=cycle, width=0.5)\n",
    "ax.format(\n",
    "    xticklabels=[\n",
    "        \"$\\leq 0.01$\",\n",
    "        \"$[0.01, 0.1]$\",\n",
    "        \"$[0.1, 0.2]$\",\n",
    "        \"$[0.2, 0.5]$\",\n",
    "        \"$[0.5, 1]$\",\n",
    "    ],\n",
    "    ylabel=\"Number of Experiments\",\n",
    "    xlabel=\"Relative Error Range\",\n",
    "    title=\"Boundary Layer Temperature\",\n",
    ")\n",
    "\n",
    "ax = axs[3]\n",
    "ax.bar(binned_q_diffs.q_error, cycle=cycle, width=0.5)\n",
    "ax.format(\n",
    "    xticklabels=[\n",
    "        \"$\\leq 0.01$\",\n",
    "        \"$[0.01, 0.1]$\",\n",
    "        \"$[0.1, 0.2]$\",\n",
    "        \"$[0.2, 0.5]$\",\n",
    "        \"$[0.5, 1]$\",\n",
    "    ],\n",
    "    ylabel=\"Number of Experiments\",\n",
    "    xlabel=\"Relative Error Range\",\n",
    "    title=\"Boundary Layer Humidity\",\n",
    ")\n",
    "axs.format(abc=\"a)\", ytickminor=False)\n",
    "fig.legend(im, frame=False, ncols=3, loc=\"b\", title=\"\")\n",
    "fig.savefig(\"top_relative_error_bar.pdf\")"
   ]
  }
 ],
 "metadata": {
  "kernelspec": {
   "display_name": "ecearth",
   "language": "python",
   "name": "python3"
  },
  "language_info": {
   "codemirror_mode": {
    "name": "ipython",
    "version": 3
   },
   "file_extension": ".py",
   "mimetype": "text/x-python",
   "name": "python",
   "nbconvert_exporter": "python",
   "pygments_lexer": "ipython3",
   "version": "3.10.13"
  }
 },
 "nbformat": 4,
 "nbformat_minor": 2
}
